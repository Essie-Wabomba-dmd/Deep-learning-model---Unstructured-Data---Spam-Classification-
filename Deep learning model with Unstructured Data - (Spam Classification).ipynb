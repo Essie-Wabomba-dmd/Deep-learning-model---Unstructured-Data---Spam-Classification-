{
 "cells": [
  {
   "cell_type": "markdown",
   "id": "815606ac",
   "metadata": {},
   "source": [
    "The aim of this exercise is to build a classification model that can classify the text message either as Ham or Spam i.e\n",
    "Model to predict message type.  \n",
    "\n",
    "The key difference between the unstructure and structured with Keras is the **Preprocessing Needed** to prepare data.   \n",
    "**Text Preprocessing**  \n",
    "    1. Cleaning  \n",
    "    2. Stop word removal  \n",
    "    3. Lemmatization  \n",
    "    4. Numeric representation e.g use TF-IDF vs word embeddings"
   ]
  },
  {
   "cell_type": "code",
   "execution_count": 1,
   "id": "79c7073b",
   "metadata": {},
   "outputs": [
    {
     "name": "stdout",
     "output_type": "stream",
     "text": [
      "Requirement already satisfied: nltk in c:\\users\\wabo914\\appdata\\local\\anaconda3\\lib\\site-packages (3.7)\n",
      "Requirement already satisfied: click in c:\\users\\wabo914\\appdata\\local\\anaconda3\\lib\\site-packages (from nltk) (8.0.4)\n",
      "Requirement already satisfied: joblib in c:\\users\\wabo914\\appdata\\local\\anaconda3\\lib\\site-packages (from nltk) (1.1.1)\n",
      "Requirement already satisfied: regex>=2021.8.3 in c:\\users\\wabo914\\appdata\\local\\anaconda3\\lib\\site-packages (from nltk) (2022.7.9)\n",
      "Requirement already satisfied: tqdm in c:\\users\\wabo914\\appdata\\local\\anaconda3\\lib\\site-packages (from nltk) (4.64.1)\n",
      "Requirement already satisfied: colorama in c:\\users\\wabo914\\appdata\\local\\anaconda3\\lib\\site-packages (from click->nltk) (0.4.6)\n"
     ]
    },
    {
     "name": "stderr",
     "output_type": "stream",
     "text": [
      "[nltk_data] Downloading package stopwords to\n",
      "[nltk_data]     C:\\Users\\Wabo914\\AppData\\Roaming\\nltk_data...\n",
      "[nltk_data]   Package stopwords is already up-to-date!\n",
      "[nltk_data] Downloading package punkt to\n",
      "[nltk_data]     C:\\Users\\Wabo914\\AppData\\Roaming\\nltk_data...\n",
      "[nltk_data]   Package punkt is already up-to-date!\n",
      "[nltk_data] Downloading package wordnet to\n",
      "[nltk_data]     C:\\Users\\Wabo914\\AppData\\Roaming\\nltk_data...\n",
      "[nltk_data]   Package wordnet is already up-to-date!\n"
     ]
    }
   ],
   "source": [
    "!pip install nltk\n",
    "\n",
    "import nltk\n",
    "nltk.download('stopwords')\n",
    "nltk.download('punkt')\n",
    "\n",
    "from nltk.corpus import stopwords\n",
    "\n",
    "nltk.download('wordnet')\n",
    "from nltk.stem import WordNetLemmatizer\n",
    "Lemmatizer = WordNetLemmatizer()"
   ]
  },
  {
   "cell_type": "markdown",
   "id": "bdaac872",
   "metadata": {},
   "source": [
    "### Creating Text Representations\n",
    "Text data needs to be converted to numeric representations before they can be used to train deep learning models. The Spam classification feature data is converted to TF-IDF vectors and the target variable is converted to one-hot encoding."
   ]
  },
  {
   "cell_type": "code",
   "execution_count": 2,
   "id": "99a3dfed",
   "metadata": {},
   "outputs": [],
   "source": [
    "import pandas as pd\n",
    "import os\n",
    "import numpy as np\n",
    "from sklearn.model_selection import train_test_split\n",
    "from sklearn.preprocessing import scale"
   ]
  },
  {
   "cell_type": "code",
   "execution_count": 3,
   "id": "4aab0316",
   "metadata": {},
   "outputs": [
    {
     "name": "stdout",
     "output_type": "stream",
     "text": [
      "\n",
      "Loaded Data :\n",
      "-------------------\n",
      "  CLASS                                                SMS\n",
      "0   ham   said kiss, kiss, i can't do the sound effects...\n",
      "1   ham      &lt;#&gt; ISH MINUTES WAS 5 MINUTES AGO. WTF.\n",
      "2  spam  (Bank of Granite issues Strong-Buy) EXPLOSIVE ...\n",
      "3  spam  * FREE* POLYPHONIC RINGTONE Text SUPER to 8713...\n",
      "4  spam  **FREE MESSAGE**Thanks for using the Auction S...\n"
     ]
    }
   ],
   "source": [
    "#Load Spam Data and review content\n",
    "spam_data = pd.read_csv(\"Spam-Classification.csv\")\n",
    "\n",
    "print(\"\\nLoaded Data :\\n-------------------\")\n",
    "print(spam_data.head())"
   ]
  },
  {
   "cell_type": "code",
   "execution_count": 4,
   "id": "d57c1ea6",
   "metadata": {},
   "outputs": [],
   "source": [
    "#Separate feature and target data\n",
    "spam_classes_raw = spam_data[\"CLASS\"]\n",
    "spam_messages = spam_data[\"SMS\"]"
   ]
  },
  {
   "cell_type": "markdown",
   "id": "652ab3d1",
   "metadata": {},
   "source": [
    "Preprocessing by creating a custom tokenizer function"
   ]
  },
  {
   "cell_type": "code",
   "execution_count": 6,
   "id": "4c90dea1",
   "metadata": {},
   "outputs": [],
   "source": [
    "import nltk\n",
    "import tensorflow as tf\n",
    "\n",
    "\n",
    "### We can use below if we get the error ' customtokenize' not defined\n",
    "def customtokenize(text):\n",
    "    # Split the text into tokens based on space as a delimiter\n",
    "    tokens = text.split()\n",
    "    return tokens\n",
    "\n",
    "\n",
    "\n",
    "#Custom tokenizer to remove stopwords and use lemmatization\n",
    "def customtokenizer(str):\n",
    "    #Split strings as tokens\n",
    "    tokens=nltk.word_tokenize(str)\n",
    "    #Filter for stopwords\n",
    "    nostop=list(filter(lambda token: token not in stopwords.words('english'), tokens))\n",
    "    #Perform lemmatization\n",
    "    lemmatized=[lemmatizer.lemmatize(word) for word in nostop ]\n",
    "\n",
    "\n",
    "from sklearn.feature_extraction.text import TfidfVectorizer\n",
    "\n",
    "#build a TF-IDF Vectorizer model\n",
    "vectorizer = TfidfVectorizer(tokenizer=customtokenize)\n",
    "\n"
   ]
  },
  {
   "cell_type": "markdown",
   "id": "dcb78ce4",
   "metadata": {},
   "source": [
    "Transform feature input to TF-IDF"
   ]
  },
  {
   "cell_type": "code",
   "execution_count": 7,
   "id": "3428e018",
   "metadata": {},
   "outputs": [
    {
     "name": "stderr",
     "output_type": "stream",
     "text": [
      "C:\\Users\\Wabo914\\AppData\\Local\\anaconda3\\lib\\site-packages\\sklearn\\feature_extraction\\text.py:528: UserWarning: The parameter 'token_pattern' will not be used since 'tokenizer' is not None'\n",
      "  warnings.warn(\n"
     ]
    },
    {
     "name": "stdout",
     "output_type": "stream",
     "text": [
      "TF-IDF Matrix Shape :  (1500, 6221)\n",
      "One-hot Encoding Shape:  (1500, 2)\n"
     ]
    }
   ],
   "source": [
    "#Transform feature input to TF-IDF\n",
    "tfidf = vectorizer.fit_transform(spam_messages)\n",
    "#convert TF-IDF to numpy array\n",
    "tfidf_array = tfidf.toarray()\n",
    "\n",
    "#Build  a label encoder for target variable to convert strings to numeric values\n",
    "from sklearn import preprocessing\n",
    "label_encoder = preprocessing.LabelEncoder()\n",
    "spam_classes = label_encoder.fit_transform(\n",
    "spam_classes_raw)\n",
    "\n",
    "\n",
    "#Convert target to one-hot encoding vector\n",
    "spam_classes = tf.keras.utils.to_categorical(spam_classes, 2)\n",
    "\n",
    "print(\"TF-IDF Matrix Shape : \", tfidf.shape)\n",
    "print(\"One-hot Encoding Shape: \", spam_classes.shape)\n",
    "\n",
    "X_train, X_test, Y_train, Y_test = train_test_split( tfidf_array, spam_classes, test_size=0.10)"
   ]
  },
  {
   "cell_type": "markdown",
   "id": "340bf651",
   "metadata": {},
   "source": [
    "### Buiding and Evaluating the Model"
   ]
  },
  {
   "cell_type": "code",
   "execution_count": 8,
   "id": "95eb0c45",
   "metadata": {},
   "outputs": [
    {
     "name": "stdout",
     "output_type": "stream",
     "text": [
      "Model: \"sequential\"\n",
      "_________________________________________________________________\n",
      " Layer (type)                Output Shape              Param #   \n",
      "=================================================================\n",
      " Hidden_layer-1 (Dense)      (None, 32)                199104    \n",
      "                                                                 \n",
      " Hidden_layer-2 (Dense)      (None, 32)                1056      \n",
      "                                                                 \n",
      " Output-Layer (Dense)        (None, 2)                 66        \n",
      "                                                                 \n",
      "=================================================================\n",
      "Total params: 200226 (782.13 KB)\n",
      "Trainable params: 200226 (782.13 KB)\n",
      "Non-trainable params: 0 (0.00 Byte)\n",
      "_________________________________________________________________\n"
     ]
    }
   ],
   "source": [
    "from tensorflow import keras\n",
    "from tensorflow.keras import optimizers\n",
    "from tensorflow.keras.regularizers import l2\n",
    "\n",
    "#Set Hyper Parameters for building the model\n",
    "NB_CLASSES=2\n",
    "N_HIDDEN=32\n",
    "\n",
    "model= tf.keras.models.Sequential()\n",
    "\n",
    "model.add(keras.layers.Dense(N_HIDDEN, \n",
    "                             input_shape=(X_train.shape[1],),\n",
    "                             name='Hidden_layer-1',\n",
    "                             activation='relu'))\n",
    "\n",
    "model.add(keras.layers.Dense(N_HIDDEN,\n",
    "                            name='Hidden_layer-2',\n",
    "                            activation='relu'))\n",
    "\n",
    "model.add(keras.layers.Dense(NB_CLASSES,\n",
    "                            name= 'Output-Layer',\n",
    "                            activation='Softmax'))\n",
    "\n",
    "model.compile(loss='categorical_crossentropy',\n",
    "             metrics=['accuracy'])\n",
    "\n",
    "model.summary()"
   ]
  },
  {
   "cell_type": "markdown",
   "id": "1fe9aa2c",
   "metadata": {},
   "source": [
    "Perform Training"
   ]
  },
  {
   "cell_type": "code",
   "execution_count": 9,
   "id": "8942abcb",
   "metadata": {},
   "outputs": [
    {
     "name": "stdout",
     "output_type": "stream",
     "text": [
      "\n",
      "Training Progress:\n",
      "------------------\n",
      "Epoch 1/20\n",
      "5/5 [==============================] - 1s 74ms/step - loss: 0.6878 - accuracy: 0.5944 - val_loss: 0.6743 - val_accuracy: 0.8111\n",
      "Epoch 2/20\n",
      "5/5 [==============================] - 0s 17ms/step - loss: 0.6569 - accuracy: 0.8750 - val_loss: 0.6433 - val_accuracy: 0.9148\n",
      "Epoch 3/20\n",
      "5/5 [==============================] - 0s 15ms/step - loss: 0.6123 - accuracy: 0.9685 - val_loss: 0.6059 - val_accuracy: 0.9148\n",
      "Epoch 4/20\n",
      "5/5 [==============================] - 0s 16ms/step - loss: 0.5589 - accuracy: 0.9815 - val_loss: 0.5630 - val_accuracy: 0.9370\n",
      "Epoch 5/20\n",
      "5/5 [==============================] - 0s 16ms/step - loss: 0.5026 - accuracy: 0.9824 - val_loss: 0.5197 - val_accuracy: 0.9444\n",
      "Epoch 6/20\n",
      "5/5 [==============================] - 0s 17ms/step - loss: 0.4452 - accuracy: 0.9870 - val_loss: 0.4778 - val_accuracy: 0.9407\n",
      "Epoch 7/20\n",
      "5/5 [==============================] - 0s 17ms/step - loss: 0.3903 - accuracy: 0.9907 - val_loss: 0.4370 - val_accuracy: 0.9519\n",
      "Epoch 8/20\n",
      "5/5 [==============================] - 0s 16ms/step - loss: 0.3384 - accuracy: 0.9907 - val_loss: 0.4015 - val_accuracy: 0.9519\n",
      "Epoch 9/20\n",
      "5/5 [==============================] - 0s 16ms/step - loss: 0.2915 - accuracy: 0.9926 - val_loss: 0.3643 - val_accuracy: 0.9556\n",
      "Epoch 10/20\n",
      "5/5 [==============================] - 0s 16ms/step - loss: 0.2486 - accuracy: 0.9926 - val_loss: 0.3330 - val_accuracy: 0.9556\n",
      "Epoch 11/20\n",
      "5/5 [==============================] - 0s 17ms/step - loss: 0.2112 - accuracy: 0.9926 - val_loss: 0.3056 - val_accuracy: 0.9556\n",
      "Epoch 12/20\n",
      "5/5 [==============================] - 0s 19ms/step - loss: 0.1785 - accuracy: 0.9935 - val_loss: 0.2816 - val_accuracy: 0.9519\n",
      "Epoch 13/20\n",
      "5/5 [==============================] - 0s 17ms/step - loss: 0.1504 - accuracy: 0.9944 - val_loss: 0.2600 - val_accuracy: 0.9556\n",
      "Epoch 14/20\n",
      "5/5 [==============================] - 0s 17ms/step - loss: 0.1264 - accuracy: 0.9954 - val_loss: 0.2409 - val_accuracy: 0.9556\n",
      "Epoch 15/20\n",
      "5/5 [==============================] - 0s 16ms/step - loss: 0.1062 - accuracy: 0.9954 - val_loss: 0.2249 - val_accuracy: 0.9556\n",
      "Epoch 16/20\n",
      "5/5 [==============================] - 0s 18ms/step - loss: 0.0892 - accuracy: 0.9954 - val_loss: 0.2111 - val_accuracy: 0.9556\n",
      "Epoch 17/20\n",
      "5/5 [==============================] - 0s 17ms/step - loss: 0.0747 - accuracy: 0.9954 - val_loss: 0.2001 - val_accuracy: 0.9556\n",
      "Epoch 18/20\n",
      "5/5 [==============================] - 0s 20ms/step - loss: 0.0627 - accuracy: 0.9963 - val_loss: 0.1896 - val_accuracy: 0.9556\n",
      "Epoch 19/20\n",
      "5/5 [==============================] - 0s 18ms/step - loss: 0.0526 - accuracy: 0.9972 - val_loss: 0.1813 - val_accuracy: 0.9593\n",
      "Epoch 20/20\n",
      "5/5 [==============================] - 0s 16ms/step - loss: 0.0441 - accuracy: 0.9972 - val_loss: 0.1738 - val_accuracy: 0.9556\n",
      "\n",
      "Accuracy during Training :\n",
      "----------------\n"
     ]
    },
    {
     "data": {
      "image/png": "[encoded data removed]",
      "text/plain": [
       "<Figure size 800x500 with 1 Axes>"
      ]
     },
     "metadata": {},
     "output_type": "display_data"
    },
    {
     "name": "stdout",
     "output_type": "stream",
     "text": [
      "\n",
      "Evaluation against Test Dataset :n--------------\n",
      "5/5 [==============================] - 0s 3ms/step - loss: 0.1902 - accuracy: 0.9200\n"
     ]
    },
    {
     "data": {
      "text/plain": [
       "[0.1902134269475937, 0.9200000166893005]"
      ]
     },
     "execution_count": 9,
     "metadata": {},
     "output_type": "execute_result"
    }
   ],
   "source": [
    "#Make it verbose so we can see the progress\n",
    "VERBOSE = 1\n",
    "\n",
    "#Setup Hyper Parameters for training\n",
    "BATCH_SIZE = 256\n",
    "EPOCHS = 20\n",
    "VALIDATION_SPLIT = 0.2\n",
    "\n",
    "print(\"\\nTraining Progress:\\n------------------\")\n",
    "\n",
    "history=model.fit(X_train,\n",
    "                 Y_train,\n",
    "                 batch_size = BATCH_SIZE,\n",
    "                 epochs=EPOCHS,\n",
    "                 verbose=VERBOSE,\n",
    "                 validation_split=VALIDATION_SPLIT)\n",
    "\n",
    "print(\"\\nAccuracy during Training :\\n----------------\")\n",
    "import matplotlib.pyplot as plt\n",
    "\n",
    "pd.DataFrame(history.history)[\"accuracy\"].plot(figsize=(8, 5))\n",
    "plt.title(\"Accuracy improvements with Epoch\")\n",
    "plt.show()\n",
    "\n",
    "print(\"\\nEvaluation against Test Dataset :n--------------\")\n",
    "model.evaluate(X_test, Y_test)"
   ]
  },
  {
   "cell_type": "markdown",
   "id": "b688619c",
   "metadata": {},
   "source": [
    "## Predicting for Text"
   ]
  },
  {
   "cell_type": "code",
   "execution_count": 10,
   "id": "5b4c8a09",
   "metadata": {},
   "outputs": [
    {
     "name": "stdout",
     "output_type": "stream",
     "text": [
      "(2, 6221)\n",
      "1/1 [==============================] - 0s 83ms/step\n",
      "Prediction Output:  [1 0]\n",
      "Prediction Classes are  ['spam' 'ham']\n"
     ]
    }
   ],
   "source": [
    "#Predictfor multiple samples using batch processing\n",
    "\n",
    "#Convert input into IF-IDF vector using the same vectorizer model\n",
    "predict_tfidf = vectorizer.transform([\"FREE entry to a fun contest\", \n",
    "                                     \"Yup I will come over\"]).toarray()\n",
    "\n",
    "print(predict_tfidf.shape)\n",
    "\n",
    "#predict using model\n",
    "prediction=np.argmax( model.predict(predict_tfidf), axis=1)\n",
    "print(\"Prediction Output: \", prediction)\n",
    "\n",
    "#Print prediction classes\n",
    "print(\"Prediction Classes are \", label_encoder.inverse_transform(prediction))"
   ]
  },
  {
   "cell_type": "code",
   "execution_count": null,
   "id": "ea7d92a4",
   "metadata": {},
   "outputs": [],
   "source": []
  }
 ],
 "metadata": {
  "kernelspec": {
   "display_name": "Python 3 (ipykernel)",
   "language": "python",
   "name": "python3"
  },
  "language_info": {
   "codemirror_mode": {
    "name": "ipython",
    "version": 3
   },
   "file_extension": ".py",
   "mimetype": "text/x-python",
   "name": "python",
   "nbconvert_exporter": "python",
   "pygments_lexer": "ipython3",
   "version": "3.10.9"
  }
 },
 "nbformat": 4,
 "nbformat_minor": 5
}
